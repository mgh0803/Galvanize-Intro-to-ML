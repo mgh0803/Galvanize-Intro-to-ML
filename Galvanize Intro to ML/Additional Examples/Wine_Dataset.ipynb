{
  "nbformat": 4,
  "nbformat_minor": 0,
  "metadata": {
    "colab": {
      "name": "Wine Dataset.ipynb",
      "version": "0.3.2",
      "provenance": []
    },
    "kernelspec": {
      "name": "python3",
      "display_name": "Python 3"
    }
  },
  "cells": [
    {
      "cell_type": "code",
      "metadata": {
        "id": "jjgC9fheMUhV",
        "colab_type": "code",
        "colab": {}
      },
      "source": [
        "from sklearn.datasets import load_wine"
      ],
      "execution_count": 0,
      "outputs": []
    },
    {
      "cell_type": "code",
      "metadata": {
        "id": "ds7s4XHwMeKv",
        "colab_type": "code",
        "colab": {}
      },
      "source": [
        "wine = load_wine()"
      ],
      "execution_count": 0,
      "outputs": []
    },
    {
      "cell_type": "code",
      "metadata": {
        "id": "aejvIto7MgMA",
        "colab_type": "code",
        "colab": {}
      },
      "source": [
        "wine"
      ],
      "execution_count": 0,
      "outputs": []
    },
    {
      "cell_type": "code",
      "metadata": {
        "id": "b7mTAmWhMhAg",
        "colab_type": "code",
        "colab": {}
      },
      "source": [
        "import pandas as pd\n",
        "import numpy as np\n",
        "\n",
        "df = pd.DataFrame(data = np.c_[wine['data'], wine['target']], columns = wine['feature_names'] + ['target'])"
      ],
      "execution_count": 0,
      "outputs": []
    },
    {
      "cell_type": "code",
      "metadata": {
        "id": "jk6kKBerNT-E",
        "colab_type": "code",
        "colab": {}
      },
      "source": [
        "df.head()"
      ],
      "execution_count": 0,
      "outputs": []
    },
    {
      "cell_type": "code",
      "metadata": {
        "id": "T4_znraBNYXA",
        "colab_type": "code",
        "outputId": "626b28cf-839a-4189-de56-9683350f25c4",
        "colab": {
          "base_uri": "https://localhost:8080/",
          "height": 34
        }
      },
      "source": [
        "from sklearn import neighbors\n",
        "from sklearn.model_selection import train_test_split\n",
        "from sklearn.preprocessing import StandardScaler\n",
        "import matplotlib.pyplot as plt\n",
        "from sklearn.metrics import mean_squared_error, r2_score\n",
        "\n",
        "random_states = 42\n",
        "test_sizes = 0.3\n",
        "\n",
        "x = wine.data\n",
        "y = wine.target\n",
        "\n",
        "x_train, x_test, y_train, y_test = train_test_split(x, y, test_size = test_sizes, random_state = random_states)\n",
        "\n",
        "scaler = StandardScaler()\n",
        "scaler.fit(x_train)\n",
        "x_train_scaled = scaler.transform(x_train)\n",
        "x_test_scaled = scaler.transform(x_test)\n",
        "\n",
        "knn = neighbors.KNeighborsClassifier(n_neighbors = 14)\n",
        "knn.fit(x_train_scaled, y_train)\n",
        "\n",
        "y_pred = knn.predict(x_test_scaled)\n",
        "\n",
        "knn.score(x_test_scaled, y_test)"
      ],
      "execution_count": 0,
      "outputs": [
        {
          "output_type": "execute_result",
          "data": {
            "text/plain": [
              "0.9814814814814815"
            ]
          },
          "metadata": {
            "tags": []
          },
          "execution_count": 22
        }
      ]
    },
    {
      "cell_type": "code",
      "metadata": {
        "id": "ALshsXKkP0kQ",
        "colab_type": "code",
        "colab": {}
      },
      "source": [
        "ks = range(1, 30)\n",
        "\n",
        "test_errors = np.zeros(len(list(ks)))\n",
        "\n",
        "for i, k in enumerate(ks):\n",
        "  \n",
        "  nn = neighbors.KNeighborsRegressor(n_neighbors = k, n_jobs = -1)\n",
        "  \n",
        "  nn.fit(x_train_scaled, y_train)\n",
        "  preds = nn.predict(x_test_scaled)\n",
        "  \n",
        "  test_errors[i] = np.sqrt(mean_squared_error(y_test, preds))"
      ],
      "execution_count": 0,
      "outputs": []
    },
    {
      "cell_type": "code",
      "metadata": {
        "id": "qIEAhosyQHZL",
        "colab_type": "code",
        "outputId": "1c6195a7-2a70-42e4-e42f-ab4b6291ce08",
        "colab": {
          "base_uri": "https://localhost:8080/",
          "height": 322
        }
      },
      "source": [
        "fig, ax = plt.subplots(figsize = (10,5))\n",
        "\n",
        "ax.plot(list(ks), test_errors)\n",
        "ax.axvline(list(ks)[np.argmin(test_errors)], linestyle = '--', color = 'black');"
      ],
      "execution_count": 0,
      "outputs": [
        {
          "output_type": "display_data",
          "data": {
            "image/png": "[encoded data removed]",
            "text/plain": [
              "<Figure size 720x360 with 1 Axes>"
            ]
          },
          "metadata": {
            "tags": []
          }
        }
      ]
    },
    {
      "cell_type": "code",
      "metadata": {
        "id": "WGhojmCiQTPc",
        "colab_type": "code",
        "outputId": "00676ac5-9ba2-42d6-d6cc-f52777576cce",
        "colab": {
          "base_uri": "https://localhost:8080/",
          "height": 34
        }
      },
      "source": [
        "optimal_k = list(ks)[np.argmin(test_errors)]\n",
        "\n",
        "optimal_error = np.min(test_errors)\n",
        "\n",
        "print(f'Optimal number of Neighbors: {optimal_k} Root Mean Squared Error: {optimal_error}')"
      ],
      "execution_count": 0,
      "outputs": [
        {
          "output_type": "stream",
          "text": [
            "Optimal number of Neighbors: 14 Root Mean Squared Error: 0.14318744883070408\n"
          ],
          "name": "stdout"
        }
      ]
    }
  ]
}