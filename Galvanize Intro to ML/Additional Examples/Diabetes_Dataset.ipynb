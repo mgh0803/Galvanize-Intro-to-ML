{
  "nbformat": 4,
  "nbformat_minor": 0,
  "metadata": {
    "colab": {
      "name": "Diabetes.ipynb",
      "version": "0.3.2",
      "provenance": []
    },
    "kernelspec": {
      "name": "python3",
      "display_name": "Python 3"
    }
  },
  "cells": [
    {
      "cell_type": "code",
      "metadata": {
        "id": "zTpLxmtTdMNK",
        "colab_type": "code",
        "colab": {}
      },
      "source": [
        "from sklearn.datasets import load_diabetes"
      ],
      "execution_count": 0,
      "outputs": []
    },
    {
      "cell_type": "code",
      "metadata": {
        "id": "tiHWA4mvdQKK",
        "colab_type": "code",
        "colab": {}
      },
      "source": [
        "diabetes = load_diabetes()\n",
        "diabetes"
      ],
      "execution_count": 0,
      "outputs": []
    },
    {
      "cell_type": "code",
      "metadata": {
        "id": "BEUzoZo9dbKs",
        "colab_type": "code",
        "colab": {}
      },
      "source": [
        "import pandas as pd\n",
        "import numpy as np\n",
        "\n",
        "df = pd.DataFrame(diabetes.data, columns = diabetes.feature_names)\n",
        "df.head()"
      ],
      "execution_count": 0,
      "outputs": []
    },
    {
      "cell_type": "code",
      "metadata": {
        "id": "FiQS8xHxd45s",
        "colab_type": "code",
        "colab": {}
      },
      "source": [
        "from sklearn import linear_model\n",
        "from sklearn.model_selection import train_test_split\n",
        "\n",
        "x = diabetes.data\n",
        "y = diabetes.target\n",
        "\n",
        "test_sizes = 0.3\n",
        "random_states = 4\n",
        "\n",
        "x_train, x_test, y_train, y_test = train_test_split(x, y, test_size = test_sizes, random_state = random_states)\n",
        "\n",
        "reg = linear_model.LinearRegression()\n",
        "reg.fit(x_train, y_train)\n",
        "\n",
        "y_pred = reg.predict(x_test)"
      ],
      "execution_count": 0,
      "outputs": []
    },
    {
      "cell_type": "code",
      "metadata": {
        "id": "qoJm9F6geT-P",
        "colab_type": "code",
        "colab": {}
      },
      "source": [
        "reg.score(x_test, y_test)"
      ],
      "execution_count": 0,
      "outputs": []
    }
  ]
}
