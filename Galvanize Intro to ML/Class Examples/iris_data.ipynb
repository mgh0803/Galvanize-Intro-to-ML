{
  "nbformat": 4,
  "nbformat_minor": 0,
  "metadata": {
    "colab": {
      "name": "Copy of iris_data.ipynb",
      "version": "0.3.2",
      "provenance": [],
      "collapsed_sections": []
    },
    "kernelspec": {
      "name": "python3",
      "display_name": "Python 3"
    }
  },
  "cells": [
    {
      "cell_type": "code",
      "metadata": {
        "id": "WTmat--c01a3",
        "colab_type": "code",
        "colab": {}
      },
      "source": [
        "# Import iris dataset\n",
        "from sklearn.datasets import load_iris\n",
        "\n",
        "iris = load_iris()"
      ],
      "execution_count": 0,
      "outputs": []
    },
    {
      "cell_type": "code",
      "metadata": {
        "id": "hXi2pqtS1cnh",
        "colab_type": "code",
        "colab": {}
      },
      "source": [
        "#150 rows (samples) 4 columns (features: Height & Width of Pedals & Sepals) \n",
        "print(iris.data.shape)"
      ],
      "execution_count": 0,
      "outputs": []
    },
    {
      "cell_type": "code",
      "metadata": {
        "id": "gDINbl4z1jeP",
        "colab_type": "code",
        "colab": {}
      },
      "source": [
        "# Print out raw dataset\n",
        "iris"
      ],
      "execution_count": 0,
      "outputs": []
    },
    {
      "cell_type": "code",
      "metadata": {
        "id": "ag5qm2FS281r",
        "colab_type": "code",
        "colab": {}
      },
      "source": [
        "#import Pandas\n",
        "import pandas as pd\n",
        "import numpy as np\n",
        "\n",
        "#create dataframe with Pandas\n",
        "df = pd.DataFrame(data= np.c_[iris['data'], iris['target']],\n",
        "                     columns= iris['feature_names'] + ['target'])"
      ],
      "execution_count": 0,
      "outputs": []
    },
    {
      "cell_type": "code",
      "metadata": {
        "id": "MoLd0BGm29oF",
        "colab_type": "code",
        "colab": {}
      },
      "source": [
        "#display Dataframe\n",
        "\n",
        "df\n",
        "\n",
        "## Print just the last 5 rows \n",
        "# df.tail()\n",
        "\n",
        "## prints the first 5 rows\n",
        "# df.head()\n",
        "\n",
        "## Change settings to display all of our rows. \n",
        "# pd.options.display.max_rows = 200"
      ],
      "execution_count": 0,
      "outputs": []
    },
    {
      "cell_type": "code",
      "metadata": {
        "id": "MbBtYRCW3uq0",
        "colab_type": "code",
        "colab": {}
      },
      "source": [
        "# We probably wont coner everything happening in the cell due to time\n",
        "# we'll comver more about matplotlib and Pandas in an intro to Data Science workshop\n",
        "\n",
        "\n",
        "%matplotlib inline\n",
        "import matplotlib.pyplot as plt\n",
        "\n",
        "# choose x & y index values. \n",
        "# Remember our list looks like this\n",
        "# ['sepal length (cm)',\n",
        "#  'sepal width (cm)',\n",
        "#  'petal length (cm)',\n",
        "#  'petal width (cm)']\n",
        "\n",
        "# 0 = sepal length (cm)\n",
        "# 3 = petal width (cm)\n",
        "x_index = 0\n",
        "y_index = 3\n",
        "\n",
        "# this formatter will label the colorbar with the correct target names\n",
        "# Look up lambda functions in python, they're neat!\n",
        "formatter = plt.FuncFormatter(lambda i, *args: iris.target_names[int(i)])\n",
        "\n",
        "\n",
        "# figsize: width, height Inches\n",
        "# dpi: Dots per inch\n",
        "plt.figure( figsize=(6, 4), dpi=90)\n",
        "\n",
        "plt.scatter(iris.data[:, x_index], iris.data[:, y_index],\n",
        "            c=iris.target, cmap=plt.cm.get_cmap('spring', 3))\n",
        "\n",
        "plt.colorbar(ticks=[0, 1, 2], format=formatter)\n",
        "plt.xlabel(iris.feature_names[x_index])\n",
        "plt.ylabel(iris.feature_names[y_index])"
      ],
      "execution_count": 0,
      "outputs": []
    },
    {
      "cell_type": "code",
      "metadata": {
        "id": "6eyCAW671kyW",
        "colab_type": "code",
        "colab": {}
      },
      "source": [
        "from sklearn import neighbors\n",
        "\n",
        "x = iris.data\n",
        "y = iris.target\n",
        "\n",
        "knn = neighbors.KNeighborsClassifier(n_neighbors=4)\n",
        "\n",
        "#pass features and labels into model\n",
        "knn.fit(x, y)\n",
        "\n",
        "# What kind of iris has 3cm x 5cm sepal and 4cm x 2cm petal?\n",
        "# 0 = setosa' 1 = 'versicolor' 2 = 'virginica']\n",
        "# Data: sepal length, sepal width, petal length, petal width\n",
        "\n",
        "# Comment / Uncoomment different flowers below to see the prediction. \n",
        "test_flower = [3, 5, 4, 2]\n",
        "#test_flower = [5.1, 3.5, 1.4, .2]\n",
        "# test_flower = [6, 20, -1, 8]\n",
        "\n",
        "result = knn.predict([test_flower])\n",
        "\n",
        "print(result)\n",
        "\n",
        "knn.predict_proba([test_flower])"
      ],
      "execution_count": 0,
      "outputs": []
    },
    {
      "cell_type": "code",
      "metadata": {
        "id": "uYwgPH-p2AEd",
        "colab_type": "code",
        "colab": {}
      },
      "source": [
        "pred = knn.predict_proba([test_flower])\n",
        "preddf = pd.DataFrame(pred, columns=iris.target_names)\n",
        "preddf"
      ],
      "execution_count": 0,
      "outputs": []
    },
    {
      "cell_type": "code",
      "metadata": {
        "id": "0Kxjv7ld2E-6",
        "colab_type": "code",
        "colab": {}
      },
      "source": [
        "# Lets make it a chart so we can read even more easily!\n",
        "preddf.plot(kind='bar');"
      ],
      "execution_count": 0,
      "outputs": []
    },
    {
      "cell_type": "code",
      "metadata": {
        "id": "YMrlPAzd2J1c",
        "colab_type": "code",
        "colab": {}
      },
      "source": [
        "# import train test split from sklearn\n",
        "from sklearn.model_selection import train_test_split\n",
        "\n",
        "# create the test / training data\n",
        "x_train, x_test, y_train, y_test = train_test_split(x, y, \n",
        "                                                    test_size=0.3,\n",
        "                                                    random_state=21, \n",
        "                                                    stratify=y)\n",
        "\n",
        "\n",
        "knn = neighbors.KNeighborsClassifier(n_neighbors=3)\n",
        "\n",
        "# Train model on training data set\n",
        "knn.fit(x_train, y_train)\n",
        "\n",
        "# Predict the labels on test data sset\n",
        "y_pred = knn.predict(x_test)\n"
      ],
      "execution_count": 0,
      "outputs": []
    },
    {
      "cell_type": "code",
      "metadata": {
        "id": "De_iEhA_JjeC",
        "colab_type": "code",
        "colab": {}
      },
      "source": [
        "# Print the list of predictions\n",
        "print(\"Test Predictions: \\n {}\".format(y_pred))\n"
      ],
      "execution_count": 0,
      "outputs": []
    },
    {
      "cell_type": "code",
      "metadata": {
        "id": "RWwBYefMJe93",
        "colab_type": "code",
        "colab": {}
      },
      "source": [
        "# Print accuracy\n",
        "knn.score(x_test, y_test)"
      ],
      "execution_count": 0,
      "outputs": []
    },
    {
      "cell_type": "markdown",
      "metadata": {
        "id": "pl4FiByG6EyC",
        "colab_type": "text"
      },
      "source": [
        "Back to Github repo: https://github.com/sagecodes/intro-machine-learning"
      ]
    }
  ]
}