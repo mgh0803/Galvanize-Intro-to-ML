{
  "nbformat": 4,
  "nbformat_minor": 0,
  "metadata": {
    "colab": {
      "name": "Copy of Boston_house.ipynb",
      "version": "0.3.2",
      "provenance": [],
      "collapsed_sections": []
    },
    "kernelspec": {
      "name": "python3",
      "display_name": "Python 3"
    }
  },
  "cells": [
    {
      "cell_type": "markdown",
      "metadata": {
        "id": "qlZbq6LE_jXy",
        "colab_type": "text"
      },
      "source": [
        "# Boston House Price Prediction with Linear regression"
      ]
    },
    {
      "cell_type": "code",
      "metadata": {
        "id": "Pe7DKuL2_o1M",
        "colab_type": "code",
        "colab": {}
      },
      "source": [
        "# Import Boston Data from sklearn\n",
        "from sklearn.datasets import load_boston\n",
        "\n",
        "#Assign Dataset to Variable\n",
        "boston = load_boston()\n",
        "\n"
      ],
      "execution_count": 0,
      "outputs": []
    },
    {
      "cell_type": "code",
      "metadata": {
        "id": "gvWaBzx8AGTG",
        "colab_type": "code",
        "colab": {}
      },
      "source": [
        "# Verify that the data imported\n",
        "# Shape tells you how many rows and columns are in your data\n",
        "print(boston.data.shape)"
      ],
      "execution_count": 0,
      "outputs": []
    },
    {
      "cell_type": "code",
      "metadata": {
        "id": "x1Y2utnvGLXv",
        "colab_type": "code",
        "colab": {}
      },
      "source": [
        "# take a quick peak at what our boston Data looks like\n",
        "boston"
      ],
      "execution_count": 0,
      "outputs": []
    },
    {
      "cell_type": "code",
      "metadata": {
        "id": "YflCf-jGGGOT",
        "colab_type": "code",
        "colab": {}
      },
      "source": [
        "# import pandas | Note that usually when writing code you will keep your imports at the top\n",
        "# For this workshop I'm importing them when we use them to make it more clear what we're using them for\n",
        "import pandas as pd "
      ],
      "execution_count": 0,
      "outputs": []
    },
    {
      "cell_type": "code",
      "metadata": {
        "id": "pMkjRkJRVt8F",
        "colab_type": "code",
        "colab": {}
      },
      "source": [
        "boston.data"
      ],
      "execution_count": 0,
      "outputs": []
    },
    {
      "cell_type": "code",
      "metadata": {
        "id": "ED2X2MsKGaUh",
        "colab_type": "code",
        "colab": {}
      },
      "source": [
        "# We won't go too deep into Pandas or visualizing our data\n",
        "# but lets take a quick look at it in a dataframe\n",
        "# Create a DataFrome from Pandas | Excel looking table\n",
        "df = pd.DataFrame(boston.data, columns=boston.feature_names)"
      ],
      "execution_count": 0,
      "outputs": []
    },
    {
      "cell_type": "code",
      "metadata": {
        "id": "ktdAHwybG410",
        "colab_type": "code",
        "colab": {}
      },
      "source": [
        "#print out the DataFrame for easier to read data\n",
        "\n",
        "# # Print just the last 5 rows \n",
        "# df.tail()\n",
        "\n",
        "# # prints the first 5 rows\n",
        "# df.head()\n",
        "\n",
        "# Change settings to display all of our rows. \n",
        "pd.options.display.max_rows = 600\n",
        "\n",
        "df\n"
      ],
      "execution_count": 0,
      "outputs": []
    },
    {
      "cell_type": "code",
      "metadata": {
        "id": "k9FQ1lVN4tI2",
        "colab_type": "code",
        "colab": {}
      },
      "source": [
        "# display all the keys inside our boston Dataset\n",
        "boston.keys()"
      ],
      "execution_count": 0,
      "outputs": []
    },
    {
      "cell_type": "code",
      "metadata": {
        "id": "RFvfMwrmOGpJ",
        "colab_type": "code",
        "colab": {}
      },
      "source": [
        "# Assign data and target values to variables\n",
        "# typically x will refer to data features and y will refer to labels\n",
        "x = boston.data\n",
        "y = boston.target"
      ],
      "execution_count": 0,
      "outputs": []
    },
    {
      "cell_type": "code",
      "metadata": {
        "id": "1p1GInlvGoKM",
        "colab_type": "code",
        "colab": {}
      },
      "source": [
        "# import linear model from Sk learn to do machine learning!\n",
        "from sklearn import linear_model\n"
      ],
      "execution_count": 0,
      "outputs": []
    },
    {
      "cell_type": "code",
      "metadata": {
        "id": "jCCyqTV3JLCw",
        "colab_type": "code",
        "colab": {}
      },
      "source": [
        "# assign model function to a variable so its easier to call\n",
        "reg = linear_model.LinearRegression()"
      ],
      "execution_count": 0,
      "outputs": []
    },
    {
      "cell_type": "code",
      "metadata": {
        "id": "Cuq2mfJ4-vOB",
        "colab_type": "code",
        "outputId": "79eacc8d-da3d-4962-bd6b-f1dcd838e2e7",
        "colab": {
          "base_uri": "https://localhost:8080/",
          "height": 34
        }
      },
      "source": [
        "# train our model!\n",
        "reg.fit(x, y)"
      ],
      "execution_count": 0,
      "outputs": [
        {
          "output_type": "execute_result",
          "data": {
            "text/plain": [
              "LinearRegression(copy_X=True, fit_intercept=True, n_jobs=None, normalize=False)"
            ]
          },
          "metadata": {
            "tags": []
          },
          "execution_count": 13
        }
      ]
    },
    {
      "cell_type": "code",
      "metadata": {
        "id": "Sfg4WNbiJPzs",
        "colab_type": "code",
        "colab": {}
      },
      "source": [
        "# Lets test the model with a new house\n",
        "#       [0'CRIM', 1'ZN', 2'INDUS', 3'CHAS', 4'NOX', 5'RM', 6'AGE', 7'DIS', 8'RAD',9'TAX', 10'PTRATIO', 11'B', 12'LSTAT']\n",
        "test_house = [.4, 0.0, 21.14, 0.0, 0.538, 2.456, 50.6, 3.7965, 4.0, 307.0 ,21.0, 288.99, 11.69]\n",
        "test_house2 = [.9864, 0.0, 21.89, 0.0, 0.6240, 5.019, 100.0, 1.4394, 4.0, 437.0, 21.2, 396.90, 34.41]\n",
        "\n",
        "#run the model prediction against our test house\n",
        "result = reg.predict([test_house2])\n",
        "\n",
        "#print result\n",
        "print(result)"
      ],
      "execution_count": 0,
      "outputs": []
    },
    {
      "cell_type": "markdown",
      "metadata": {
        "id": "FChtSswMJReM",
        "colab_type": "text"
      },
      "source": [
        "Train Test Split"
      ]
    },
    {
      "cell_type": "code",
      "metadata": {
        "id": "2l9MufzPJHSt",
        "colab_type": "code",
        "colab": {}
      },
      "source": [
        "# import Train Test Split from sklearn\n",
        "from sklearn.model_selection import train_test_split"
      ],
      "execution_count": 0,
      "outputs": []
    },
    {
      "cell_type": "code",
      "metadata": {
        "id": "UVyMqp96JTNK",
        "colab_type": "code",
        "colab": {}
      },
      "source": [
        "#create train & test datasets\n",
        "# random_state is shuffling in a random order\n",
        "x_train, x_test, y_train, y_test = train_test_split(x, y, \n",
        "                                                    test_size=0.3,\n",
        "                                                    random_state=4)"
      ],
      "execution_count": 0,
      "outputs": []
    },
    {
      "cell_type": "code",
      "metadata": {
        "id": "OClxHo0COYKp",
        "colab_type": "code",
        "colab": {}
      },
      "source": [
        "# Assign LinearRegression model to a variable\n",
        "reg = linear_model.LinearRegression()"
      ],
      "execution_count": 0,
      "outputs": []
    },
    {
      "cell_type": "code",
      "metadata": {
        "id": "06BxUghpOXPk",
        "colab_type": "code",
        "colab": {}
      },
      "source": [
        "# train the LinearRegression model with training data\n",
        "reg.fit(x_train, y_train)\n",
        "\n",
        "# Make predictions on the test data using trained model\n",
        "y_pred = reg.predict(x_test)"
      ],
      "execution_count": 0,
      "outputs": []
    },
    {
      "cell_type": "code",
      "metadata": {
        "id": "8IxQrl6gOg6P",
        "colab_type": "code",
        "colab": {}
      },
      "source": [
        "#print out the predictions\n",
        "print(\"Test Predictions: \\n {}\".format(y_pred))"
      ],
      "execution_count": 0,
      "outputs": []
    },
    {
      "cell_type": "code",
      "metadata": {
        "id": "r8JyJvcFOjF7",
        "colab_type": "code",
        "outputId": "a061b8c3-d69e-4be7-dd34-e149f0e7c920",
        "colab": {
          "base_uri": "https://localhost:8080/",
          "height": 34
        }
      },
      "source": [
        "# Print accuracy\n",
        "reg.score(x_test, y_test)"
      ],
      "execution_count": 0,
      "outputs": [
        {
          "output_type": "execute_result",
          "data": {
            "text/plain": [
              "0.712181837740919"
            ]
          },
          "metadata": {
            "tags": []
          },
          "execution_count": 20
        }
      ]
    },
    {
      "cell_type": "code",
      "metadata": {
        "id": "GfA-aNFhP-eh",
        "colab_type": "code",
        "colab": {}
      },
      "source": [
        "#plot out predicted and actual prices\n",
        "\n",
        "import matplotlib.pyplot as plt\n",
        "\n",
        "predicted = reg.predict(x_test)\n",
        "expected = y_test\n",
        "\n",
        "plt.figure(figsize=(8, 5))\n",
        "plt.scatter(expected, predicted)\n",
        "plt.xlabel('Price ($1000s)')\n",
        "plt.ylabel('Predicted price ($1000s)')\n",
        "plt.tight_layout()"
      ],
      "execution_count": 0,
      "outputs": []
    },
    {
      "cell_type": "markdown",
      "metadata": {
        "id": "u08rdhYk5-PR",
        "colab_type": "text"
      },
      "source": [
        "Back to Github repo: https://github.com/sagecodes/intro-machine-learning"
      ]
    }
  ]
}
